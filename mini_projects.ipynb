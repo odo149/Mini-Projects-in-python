{
 "cells": [
  {
   "cell_type": "code",
   "execution_count": null,
   "id": "f3cef594",
   "metadata": {
    "scrolled": true
   },
   "outputs": [],
   "source": [
    "%pylab inline"
   ]
  },
  {
   "cell_type": "code",
   "execution_count": null,
   "id": "585e1e5e",
   "metadata": {},
   "outputs": [],
   "source": [
    "x = linspace(0,1,4)\n",
    "x"
   ]
  },
  {
   "cell_type": "code",
   "execution_count": null,
   "id": "21c522d9",
   "metadata": {},
   "outputs": [],
   "source": [
    "y_1 = linspace(x[0],x[1],4)\n",
    "y_2 = linspace(x[2],x[3],4)\n",
    "y_1,y_2"
   ]
  },
  {
   "cell_type": "code",
   "execution_count": null,
   "id": "31739167",
   "metadata": {},
   "outputs": [],
   "source": [
    "from forex_python.converter import CurrencyRates\n",
    "\n",
    "# Create an instance of CurrencyRates\n",
    "cr = CurrencyRates()\n",
    "\n",
    "#User currency input\n",
    "curr = str(input(\"What currency do you want to change? \")).upper()\n",
    "new_curr = str(input(\"What currency do you want to change to? \")).upper()\n",
    "amt = float(input('How much do you want to convert? '))\n",
    "\n",
    "# Get the exchange rate for USD to EUR\n",
    "rate = cr.get_rate(curr, new_curr)\n",
    "\n",
    "#Conversion\n",
    "new_amt = round(amt*rate,2)\n",
    "\n",
    "# Print the exchange rate and conversion\n",
    "print(amt,curr,' = ',new_amt,new_curr,' at the rate of ',rate)\n"
   ]
  },
  {
   "cell_type": "code",
   "execution_count": null,
   "id": "e1027f11",
   "metadata": {},
   "outputs": [],
   "source": []
  }
 ],
 "metadata": {
  "kernelspec": {
   "display_name": "Python 3 (ipykernel)",
   "language": "python",
   "name": "python3"
  },
  "language_info": {
   "codemirror_mode": {
    "name": "ipython",
    "version": 3
   },
   "file_extension": ".py",
   "mimetype": "text/x-python",
   "name": "python",
   "nbconvert_exporter": "python",
   "pygments_lexer": "ipython3",
   "version": "3.9.11"
  }
 },
 "nbformat": 4,
 "nbformat_minor": 5
}
